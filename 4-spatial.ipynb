{
 "cells": [
  {
   "cell_type": "markdown",
   "metadata": {},
   "source": [
    "# Spatial\n",
    "\n",
    "In this notebook we train a FastText model in order to create POI embeddings. Then we also utilize spatial information in order to enhance these representations."
   ]
  },
  {
   "cell_type": "code",
   "execution_count": null,
   "metadata": {},
   "outputs": [],
   "source": [
    "import numpy as np\n",
    "import pandas as pd\n",
    "import geopandas as gpd\n",
    "import os\n",
    "\n",
    "from gensim.models import FastText\n",
    "from sklearn.linear_model import LogisticRegression\n",
    "from sklearn.metrics import accuracy_score"
   ]
  },
  {
   "cell_type": "markdown",
   "metadata": {},
   "source": [
    "Load train and test sets."
   ]
  },
  {
   "cell_type": "code",
   "execution_count": null,
   "metadata": {},
   "outputs": [],
   "source": [
    "labels = [\n",
    "    'Active Life', 'Arts & Entertainment', 'Automotive', 'Beauty & Spas',\n",
    "    'Education', 'Event Planning & Services', 'Financial Services', 'Food',\n",
    "    'Health & Medical', 'Home Services', 'Hotels & Travel', 'Local Flavor',\n",
    "    'Local Services', 'Mass Media', 'Nightlife', 'Pets', 'Professional Services',\n",
    "    'Public Services & Government', 'Real Estate', 'Religious Organizations',\n",
    "    'Restaurants', 'Shopping'\n",
    "]\n",
    "\n",
    "train_df = pd.read_csv('data/train.csv', na_filter=False)\n",
    "test_df = pd.read_csv('data/test.csv', na_filter=False)"
   ]
  },
  {
   "cell_type": "markdown",
   "metadata": {},
   "source": [
    "Train FastText model on train sequences."
   ]
  },
  {
   "cell_type": "code",
   "execution_count": null,
   "metadata": {},
   "outputs": [],
   "source": [
    "emb_size = 300\n",
    "epochs = 100\n",
    "ft_model_fname = f'ft_{emb_size}_{epochs}.model'\n",
    "models_dir = 'ft_models'\n",
    "\n",
    "train_sequences = train_df['sequence'].apply(lambda x: x.split())\n",
    "test_sequences = test_df['sequence'].apply(lambda x: x.split())\n",
    "\n",
    "if ft_model_fname in os.listdir(models_dir):\n",
    "    ft_model = FastText.load(os.path.join(models_dir, ft_model_fname))\n",
    "else:\n",
    "    ft_model = FastText(size=emb_size)\n",
    "    ft_model.build_vocab(sentences=train_sequences)\n",
    "    ft_model.train(sentences=train_sequences, total_examples=len(train_sequences), epochs=epochs)\n",
    "    ft_model.save(os.path.join(models_dir, ft_model_fname))"
   ]
  },
  {
   "cell_type": "markdown",
   "metadata": {},
   "source": [
    "Create initial POI embeddings, without spatial information."
   ]
  },
  {
   "cell_type": "code",
   "execution_count": null,
   "metadata": {},
   "outputs": [],
   "source": [
    "train_indiv_embs = np.stack(train_sequences.apply(lambda x: ft_model.wv[x].mean(axis=0)))\n",
    "test_indiv_embs = np.stack(test_sequences.apply(lambda x: ft_model.wv[x].mean(axis=0)))"
   ]
  },
  {
   "cell_type": "markdown",
   "metadata": {},
   "source": [
    "Transform coordinates to specific crs and then compute buffers around each POI (in meters)."
   ]
  },
  {
   "cell_type": "code",
   "execution_count": null,
   "metadata": {},
   "outputs": [],
   "source": [
    "distance = 500\n",
    "src_crs = 'epsg:4326'\n",
    "tgt_crs = 'epsg:3857'\n",
    "\n",
    "train_gdf = gpd.GeoDataFrame(\n",
    "    geometry=gpd.points_from_xy(train_df['longitude'], train_df['latitude']),\n",
    "    crs=src_crs).to_crs(tgt_crs)\n",
    "train_gdf['buffer'] = train_gdf.buffer(distance)\n",
    "\n",
    "test_gdf = gpd.GeoDataFrame(\n",
    "    geometry=gpd.points_from_xy(test_df['longitude'], test_df['latitude']),\n",
    "    crs=src_crs).to_crs(tgt_crs)\n",
    "test_gdf['buffer'] = test_gdf.buffer(distance)"
   ]
  },
  {
   "cell_type": "markdown",
   "metadata": {},
   "source": [
    "Each POI gets a new spatial embedding by averaging the representations of its neighbors."
   ]
  },
  {
   "cell_type": "code",
   "execution_count": null,
   "metadata": {},
   "outputs": [],
   "source": [
    "train_spatial_embs = np.zeros((len(train_df), emb_size))\n",
    "test_spatial_embs = np.zeros((len(test_df), emb_size))\n",
    "\n",
    "for idx, buffer in enumerate(train_gdf['buffer']):\n",
    "    mask = train_gdf.drop(idx)['geometry'].intersects(buffer)\n",
    "    neighbors = train_gdf.drop(idx).loc[mask].index.tolist()\n",
    "    if neighbors:\n",
    "        train_spatial_embs[idx] = train_indiv_embs[neighbors].mean(axis=0)\n",
    "\n",
    "for idx, buffer in enumerate(test_gdf['buffer']):\n",
    "    mask = train_gdf['geometry'].intersects(buffer)\n",
    "    neighbors = train_gdf.loc[mask].index.tolist()\n",
    "    if neighbors:\n",
    "        test_spatial_embs[idx] = train_indiv_embs[neighbors].mean(axis=0)"
   ]
  },
  {
   "cell_type": "code",
   "execution_count": null,
   "metadata": {},
   "outputs": [],
   "source": [
    "train_features = np.hstack([train_indiv_embs, train_spatial_embs])\n",
    "test_features = np.hstack([test_indiv_embs, test_spatial_embs])\n",
    "\n",
    "train_labels = train_df['categories'].str.get_dummies(sep=', ')\n",
    "test_labels = test_df['categories'].str.get_dummies(sep=', ')"
   ]
  },
  {
   "cell_type": "markdown",
   "metadata": {},
   "source": [
    "Classification via Logistic Regression."
   ]
  },
  {
   "cell_type": "code",
   "execution_count": null,
   "metadata": {},
   "outputs": [],
   "source": [
    "test_preds = np.zeros((len(test_df), len(labels)))\n",
    "scores = []\n",
    "\n",
    "for label_idx, label_name in enumerate(labels):\n",
    "    train_target = train_labels[label_name]\n",
    "    test_target = test_labels[label_name]\n",
    "\n",
    "    clf = LogisticRegression(solver='sag')\n",
    "    clf.fit(train_features, train_target)\n",
    "    preds = clf.predict(test_features)\n",
    "    test_preds[:, label_idx] = preds\n",
    "\n",
    "    score = accuracy_score(test_target, preds)\n",
    "    scores.append(score)\n",
    "    print('Test score for class {} is {:.4f}'.format(label_name, score))\n",
    "\n",
    "print('Mean test score is {:.4f}'.format(np.mean(scores)))"
   ]
  }
 ],
 "metadata": {
  "kernelspec": {
   "display_name": "Python 3",
   "language": "python",
   "name": "python3"
  },
  "language_info": {
   "codemirror_mode": {
    "name": "ipython",
    "version": 3
   },
   "file_extension": ".py",
   "mimetype": "text/x-python",
   "name": "python",
   "nbconvert_exporter": "python",
   "pygments_lexer": "ipython3",
   "version": "3.6.9"
  }
 },
 "nbformat": 4,
 "nbformat_minor": 4
}
