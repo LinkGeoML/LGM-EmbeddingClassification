{
 "cells": [
  {
   "cell_type": "markdown",
   "metadata": {},
   "source": [
    "# Baseline\n",
    "\n",
    "This notebook implements a baseline case. Tf-idf features are first extracted and then used to classify businesses into categories."
   ]
  },
  {
   "cell_type": "code",
   "execution_count": 1,
   "metadata": {},
   "outputs": [],
   "source": [
    "import numpy as np\n",
    "import pandas as pd\n",
    "\n",
    "from sklearn.feature_extraction.text import TfidfVectorizer\n",
    "from sklearn.linear_model import LogisticRegression\n",
    "from sklearn.metrics import accuracy_score\n",
    "from scipy.sparse import hstack"
   ]
  },
  {
   "cell_type": "markdown",
   "metadata": {},
   "source": [
    "Load train and test sets"
   ]
  },
  {
   "cell_type": "code",
   "execution_count": 2,
   "metadata": {},
   "outputs": [],
   "source": [
    "labels = [\n",
    "    'Active Life', 'Arts & Entertainment', 'Automotive', 'Beauty & Spas',\n",
    "    'Education', 'Event Planning & Services', 'Financial Services', 'Food',\n",
    "    'Health & Medical', 'Home Services', 'Hotels & Travel', 'Local Flavor',\n",
    "    'Local Services', 'Mass Media', 'Nightlife', 'Pets', 'Professional Services',\n",
    "    'Public Services & Government', 'Real Estate', 'Religious Organizations',\n",
    "    'Restaurants', 'Shopping'\n",
    "]\n",
    "\n",
    "train_df = pd.read_csv('data/train.csv', na_filter=False)\n",
    "test_df = pd.read_csv('data/test.csv', na_filter=False)\n",
    "\n",
    "train_texts = train_df['sequence']\n",
    "test_texts = test_df['sequence']\n",
    "\n",
    "train_labels = train_df['categories'].str.get_dummies(sep=', ')\n",
    "test_labels = test_df['categories'].str.get_dummies(sep=', ')"
   ]
  },
  {
   "cell_type": "markdown",
   "metadata": {},
   "source": [
    "Features extraction based on both char and word token level"
   ]
  },
  {
   "cell_type": "code",
   "execution_count": 3,
   "metadata": {},
   "outputs": [],
   "source": [
    "word_vectorizer = TfidfVectorizer(\n",
    "    tokenizer=lambda x: x.split(),\n",
    "    strip_accents='unicode',\n",
    "    ngram_range=(1, 1),\n",
    "    sublinear_tf=True,\n",
    "    max_features=10000)\n",
    "\n",
    "train_word_features = word_vectorizer.fit_transform(train_texts)\n",
    "test_word_features = word_vectorizer.transform(test_texts)\n",
    "\n",
    "char_vectorizer = TfidfVectorizer(\n",
    "    tokenizer=lambda x: x.split(),\n",
    "    strip_accents='unicode',\n",
    "    analyzer='char',\n",
    "    ngram_range=(3, 4),\n",
    "    max_df=0.85,\n",
    "    sublinear_tf=True,\n",
    "    max_features=20000)\n",
    "\n",
    "train_char_features = char_vectorizer.fit_transform(train_texts)\n",
    "test_char_features = char_vectorizer.transform(test_texts)\n",
    "\n",
    "train_features = hstack([train_char_features, train_word_features])\n",
    "test_features = hstack([test_char_features, test_word_features])"
   ]
  },
  {
   "cell_type": "markdown",
   "metadata": {},
   "source": [
    "Classification via Logistic Regression"
   ]
  },
  {
   "cell_type": "code",
   "execution_count": 4,
   "metadata": {},
   "outputs": [
    {
     "name": "stdout",
     "output_type": "stream",
     "text": [
      "Test score for class Active Life is 0.9839\n",
      "Test score for class Arts & Entertainment is 0.9799\n",
      "Test score for class Automotive is 0.9819\n",
      "Test score for class Beauty & Spas is 0.9833\n",
      "Test score for class Education is 0.9878\n",
      "Test score for class Event Planning & Services is 0.9650\n",
      "Test score for class Financial Services is 0.9946\n",
      "Test score for class Food is 0.9294\n",
      "Test score for class Health & Medical is 0.9801\n",
      "Test score for class Home Services is 0.9715\n",
      "Test score for class Hotels & Travel is 0.9878\n",
      "Test score for class Local Flavor is 0.9922\n",
      "Test score for class Local Services is 0.9592\n",
      "Test score for class Mass Media is 0.9983\n",
      "Test score for class Nightlife is 0.9807\n",
      "Test score for class Pets is 0.9931\n",
      "Test score for class Professional Services is 0.9743\n",
      "Test score for class Public Services & Government is 0.9957\n",
      "Test score for class Real Estate is 0.9899\n",
      "Test score for class Religious Organizations is 0.9989\n",
      "Test score for class Restaurants is 0.9740\n",
      "Test score for class Shopping is 0.9463\n",
      "Mean test score is 0.9795\n"
     ]
    }
   ],
   "source": [
    "test_preds = np.zeros((len(test_df), len(labels)))\n",
    "scores = []\n",
    "\n",
    "for label_idx, label_name in enumerate(labels):\n",
    "    train_target = train_labels[label_name]\n",
    "    test_target = test_labels[label_name]\n",
    "\n",
    "    clf = LogisticRegression(solver='sag')\n",
    "    clf.fit(train_features, train_target)\n",
    "    preds = clf.predict(test_features)\n",
    "    test_preds[:, label_idx] = preds\n",
    "\n",
    "    score = accuracy_score(test_target, preds)\n",
    "    scores.append(score)\n",
    "    print('Test score for class {} is {:.4f}'.format(label_name, score))\n",
    "\n",
    "print('Mean test score is {:.4f}'.format(np.mean(scores)))"
   ]
  }
 ],
 "metadata": {
  "kernelspec": {
   "display_name": "Python 3",
   "language": "python",
   "name": "python3"
  },
  "language_info": {
   "codemirror_mode": {
    "name": "ipython",
    "version": 3
   },
   "file_extension": ".py",
   "mimetype": "text/x-python",
   "name": "python",
   "nbconvert_exporter": "python",
   "pygments_lexer": "ipython3",
   "version": "3.6.9"
  }
 },
 "nbformat": 4,
 "nbformat_minor": 4
}
